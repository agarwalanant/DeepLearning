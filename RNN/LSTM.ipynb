{
  "nbformat": 4,
  "nbformat_minor": 0,
  "metadata": {
    "colab": {
      "name": "LSTM.ipynb",
      "version": "0.3.2",
      "provenance": [],
      "include_colab_link": true
    },
    "kernelspec": {
      "name": "python3",
      "display_name": "Python 3"
    },
    "accelerator": "TPU"
  },
  "cells": [
    {
      "cell_type": "markdown",
      "metadata": {
        "id": "view-in-github",
        "colab_type": "text"
      },
      "source": [
        "<a href=\"https://colab.research.google.com/github/agarwalanant/DeepLearning/blob/master/RNN/LSTM.ipynb\" target=\"_parent\"><img src=\"https://colab.research.google.com/assets/colab-badge.svg\" alt=\"Open In Colab\"/></a>"
      ]
    },
    {
      "metadata": {
        "id": "iSaVZOvsY3eV",
        "colab_type": "code",
        "colab": {
          "base_uri": "https://localhost:8080/",
          "height": 128
        },
        "outputId": "6674d6bc-3a76-4e8d-f933-d6d32dc98019"
      },
      "cell_type": "code",
      "source": [
        "from google.colab import drive\n",
        "drive.mount('/content/gdrive')"
      ],
      "execution_count": 1,
      "outputs": [
        {
          "output_type": "stream",
          "text": [
            "Go to this URL in a browser: https://accounts.google.com/o/oauth2/auth?client_id=947318989803-6bn6qk8qdgf4n4g3pfee6491hc0brc4i.apps.googleusercontent.com&redirect_uri=urn%3Aietf%3Awg%3Aoauth%3A2.0%3Aoob&scope=email%20https%3A%2F%2Fwww.googleapis.com%2Fauth%2Fdocs.test%20https%3A%2F%2Fwww.googleapis.com%2Fauth%2Fdrive%20https%3A%2F%2Fwww.googleapis.com%2Fauth%2Fdrive.photos.readonly%20https%3A%2F%2Fwww.googleapis.com%2Fauth%2Fpeopleapi.readonly&response_type=code\n",
            "\n",
            "Enter your authorization code:\n",
            "··········\n",
            "Mounted at /content/gdrive\n"
          ],
          "name": "stdout"
        }
      ]
    },
    {
      "metadata": {
        "id": "RdGddkxdYWzc",
        "colab_type": "code",
        "colab": {
          "base_uri": "https://localhost:8080/",
          "height": 400
        },
        "outputId": "5a3f4e61-71be-4022-ca95-eb6cd3d7ceb5"
      },
      "cell_type": "code",
      "source": [
        "!wget http://www.superdatascience.com/wp-content/uploads/2017/03/Recurrent_Neural_Networks-1.zip\n",
        "!unzip Recurrent_Neural_Networks-1.zip -d gdrive/My\\ \\Drive/DeepLearning"
      ],
      "execution_count": 2,
      "outputs": [
        {
          "output_type": "stream",
          "text": [
            "--2018-10-31 13:51:01--  http://www.superdatascience.com/wp-content/uploads/2017/03/Recurrent_Neural_Networks-1.zip\n",
            "Resolving www.superdatascience.com (www.superdatascience.com)... 104.27.173.21, 104.27.172.21, 2606:4700:30::681b:ac15, ...\n",
            "Connecting to www.superdatascience.com (www.superdatascience.com)|104.27.173.21|:80... connected.\n",
            "HTTP request sent, awaiting response... 301 Moved Permanently\n",
            "Location: https://www.superdatascience.com/wp-content/uploads/2017/03/Recurrent_Neural_Networks-1.zip [following]\n",
            "--2018-10-31 13:51:01--  https://www.superdatascience.com/wp-content/uploads/2017/03/Recurrent_Neural_Networks-1.zip\n",
            "Connecting to www.superdatascience.com (www.superdatascience.com)|104.27.173.21|:443... connected.\n",
            "HTTP request sent, awaiting response... 200 OK\n",
            "Length: 24237 (24K) [application/zip]\n",
            "Saving to: ‘Recurrent_Neural_Networks-1.zip’\n",
            "\n",
            "\r          Recurrent   0%[                    ]       0  --.-KB/s               \rRecurrent_Neural_Ne 100%[===================>]  23.67K  --.-KB/s    in 0.06s   \n",
            "\n",
            "2018-10-31 13:51:01 (390 KB/s) - ‘Recurrent_Neural_Networks-1.zip’ saved [24237/24237]\n",
            "\n",
            "Archive:  Recurrent_Neural_Networks-1.zip\n",
            "   creating: gdrive/My Drive/DeepLearning/Recurrent_Neural_Networks/\n",
            "  inflating: gdrive/My Drive/DeepLearning/Recurrent_Neural_Networks/Google_Stock_Price_Test.csv  \n",
            "  inflating: gdrive/My Drive/DeepLearning/Recurrent_Neural_Networks/Google_Stock_Price_Train.csv  \n",
            "  inflating: gdrive/My Drive/DeepLearning/Recurrent_Neural_Networks/rnn.py  \n"
          ],
          "name": "stdout"
        }
      ]
    },
    {
      "metadata": {
        "id": "oFfa4ly5ZD5M",
        "colab_type": "code",
        "colab": {}
      },
      "cell_type": "code",
      "source": [
        "import numpy as np\n",
        "import pandas as pd\n",
        "import matplotlib.pyplot as plt"
      ],
      "execution_count": 0,
      "outputs": []
    }
  ]
}