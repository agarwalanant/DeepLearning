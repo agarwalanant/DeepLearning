{
  "nbformat": 4,
  "nbformat_minor": 0,
  "metadata": {
    "colab": {
      "name": "LSTM.ipynb",
      "version": "0.3.2",
      "provenance": [],
      "include_colab_link": true
    },
    "kernelspec": {
      "name": "python3",
      "display_name": "Python 3"
    },
    "accelerator": "TPU"
  },
  "cells": [
    {
      "cell_type": "markdown",
      "metadata": {
        "id": "view-in-github",
        "colab_type": "text"
      },
      "source": [
        "<a href=\"https://colab.research.google.com/github/agarwalanant/DeepLearning/blob/master/RNN/LSTM.ipynb\" target=\"_parent\"><img src=\"https://colab.research.google.com/assets/colab-badge.svg\" alt=\"Open In Colab\"/></a>"
      ]
    },
    {
      "metadata": {
        "id": "iSaVZOvsY3eV",
        "colab_type": "code",
        "colab": {
          "base_uri": "https://localhost:8080/",
          "height": 128
        },
        "outputId": "6674d6bc-3a76-4e8d-f933-d6d32dc98019"
      },
      "cell_type": "code",
      "source": [
        "from google.colab import drive\n",
        "drive.mount('/content/gdrive')"
      ],
      "execution_count": 1,
      "outputs": [
        {
          "output_type": "stream",
          "text": [
            "Go to this URL in a browser: https://accounts.google.com/o/oauth2/auth?client_id=947318989803-6bn6qk8qdgf4n4g3pfee6491hc0brc4i.apps.googleusercontent.com&redirect_uri=urn%3Aietf%3Awg%3Aoauth%3A2.0%3Aoob&scope=email%20https%3A%2F%2Fwww.googleapis.com%2Fauth%2Fdocs.test%20https%3A%2F%2Fwww.googleapis.com%2Fauth%2Fdrive%20https%3A%2F%2Fwww.googleapis.com%2Fauth%2Fdrive.photos.readonly%20https%3A%2F%2Fwww.googleapis.com%2Fauth%2Fpeopleapi.readonly&response_type=code\n",
            "\n",
            "Enter your authorization code:\n",
            "··········\n",
            "Mounted at /content/gdrive\n"
          ],
          "name": "stdout"
        }
      ]
    },
    {
      "metadata": {
        "id": "RdGddkxdYWzc",
        "colab_type": "code",
        "colab": {
          "base_uri": "https://localhost:8080/",
          "height": 400
        },
        "outputId": "5a3f4e61-71be-4022-ca95-eb6cd3d7ceb5"
      },
      "cell_type": "code",
      "source": [
        "!wget http://www.superdatascience.com/wp-content/uploads/2017/03/Recurrent_Neural_Networks-1.zip\n",
        "!unzip Recurrent_Neural_Networks-1.zip -d gdrive/My\\ \\Drive/DeepLearning"
      ],
      "execution_count": 2,
      "outputs": [
        {
          "output_type": "stream",
          "text": [
            "--2018-10-31 13:51:01--  http://www.superdatascience.com/wp-content/uploads/2017/03/Recurrent_Neural_Networks-1.zip\n",
            "Resolving www.superdatascience.com (www.superdatascience.com)... 104.27.173.21, 104.27.172.21, 2606:4700:30::681b:ac15, ...\n",
            "Connecting to www.superdatascience.com (www.superdatascience.com)|104.27.173.21|:80... connected.\n",
            "HTTP request sent, awaiting response... 301 Moved Permanently\n",
            "Location: https://www.superdatascience.com/wp-content/uploads/2017/03/Recurrent_Neural_Networks-1.zip [following]\n",
            "--2018-10-31 13:51:01--  https://www.superdatascience.com/wp-content/uploads/2017/03/Recurrent_Neural_Networks-1.zip\n",
            "Connecting to www.superdatascience.com (www.superdatascience.com)|104.27.173.21|:443... connected.\n",
            "HTTP request sent, awaiting response... 200 OK\n",
            "Length: 24237 (24K) [application/zip]\n",
            "Saving to: ‘Recurrent_Neural_Networks-1.zip’\n",
            "\n",
            "\r          Recurrent   0%[                    ]       0  --.-KB/s               \rRecurrent_Neural_Ne 100%[===================>]  23.67K  --.-KB/s    in 0.06s   \n",
            "\n",
            "2018-10-31 13:51:01 (390 KB/s) - ‘Recurrent_Neural_Networks-1.zip’ saved [24237/24237]\n",
            "\n",
            "Archive:  Recurrent_Neural_Networks-1.zip\n",
            "   creating: gdrive/My Drive/DeepLearning/Recurrent_Neural_Networks/\n",
            "  inflating: gdrive/My Drive/DeepLearning/Recurrent_Neural_Networks/Google_Stock_Price_Test.csv  \n",
            "  inflating: gdrive/My Drive/DeepLearning/Recurrent_Neural_Networks/Google_Stock_Price_Train.csv  \n",
            "  inflating: gdrive/My Drive/DeepLearning/Recurrent_Neural_Networks/rnn.py  \n"
          ],
          "name": "stdout"
        }
      ]
    },
    {
      "metadata": {
        "id": "oFfa4ly5ZD5M",
        "colab_type": "code",
        "colab": {}
      },
      "cell_type": "code",
      "source": [
        "import numpy as np\n",
        "import pandas as pd\n",
        "import matplotlib.pyplot as plt\n",
        "#LSTM inports\n",
        "from keras.models import Sequential\n",
        "from keras.layers import Dense\n",
        "from keras.layers import LSTM\n",
        "from keras.layers import Dropout"
      ],
      "execution_count": 0,
      "outputs": []
    },
    {
      "metadata": {
        "id": "JQ0b2YwbZbbR",
        "colab_type": "code",
        "colab": {}
      },
      "cell_type": "code",
      "source": [
        "dataset_train = pd.read_csv(\"gdrive/My Drive/DeepLearning/Recurrent_Neural_Networks/Google_Stock_Price_Train.csv\")"
      ],
      "execution_count": 0,
      "outputs": []
    },
    {
      "metadata": {
        "id": "9wvdKyZAZplQ",
        "colab_type": "code",
        "colab": {}
      },
      "cell_type": "code",
      "source": [
        "training_set = dataset_train.iloc[:,1:2].values"
      ],
      "execution_count": 0,
      "outputs": []
    },
    {
      "metadata": {
        "id": "wsjnQzeyaBd7",
        "colab_type": "code",
        "colab": {}
      },
      "cell_type": "code",
      "source": [
        "from sklearn.preprocessing import MinMaxScaler\n",
        "sc = MinMaxScaler(feature_range = (0,1))\n",
        "training_scaled=sc.fit_transform(training_set)"
      ],
      "execution_count": 0,
      "outputs": []
    },
    {
      "metadata": {
        "id": "NND0j0R7aag2",
        "colab_type": "code",
        "colab": {}
      },
      "cell_type": "code",
      "source": [
        "#LSTM with 60 time steps\n",
        "X_train =[]\n",
        "y_train =[]\n",
        "for i in range(60,1258):\n",
        "  X_train.append(training_scaled[i-60:i,0])\n",
        "  y_train.append(training_scaled[i,0])\n",
        "X_train,y_train = np.array(X_train), np.array(y_train)"
      ],
      "execution_count": 0,
      "outputs": []
    },
    {
      "metadata": {
        "id": "f4_r6Rr2byb_",
        "colab_type": "code",
        "colab": {}
      },
      "cell_type": "code",
      "source": [
        "#Reshaping the data\n",
        "X_train = np.reshape(X_train,(X_train.shape[0],X_train.shape[1],1))"
      ],
      "execution_count": 0,
      "outputs": []
    },
    {
      "metadata": {
        "id": "inhnlz-NdsQs",
        "colab_type": "code",
        "colab": {}
      },
      "cell_type": "code",
      "source": [
        "regressor = Sequential()\n",
        "regressor.add(LSTM(units = 64,return_sequences=True, input_shape = (X_train.shape[1],1)))\n",
        "regressor.add(Dropout(0.2))\n",
        "\n",
        "regressor.add(LSTM(units = 64,return_sequences=True))\n",
        "regressor.add(Dropout(0.2))\n",
        "\n",
        "regressor.add(LSTM(units = 64,return_sequences=True))\n",
        "regressor.add(Dropout(0.2))\n",
        "\n",
        "regressor.add(LSTM(units = 64,return_sequences=False)) #return_sequences=False as it is not followed by another LSTM layer\n",
        "regressor.add(Dropout(0.2))\n",
        "\n",
        "regressor.add(Dense(units=1))"
      ],
      "execution_count": 0,
      "outputs": []
    },
    {
      "metadata": {
        "id": "O98R1q8OgChi",
        "colab_type": "code",
        "colab": {}
      },
      "cell_type": "code",
      "source": [
        "regressor.compile(optimizer = 'adam',loss = 'mean_squared_error')"
      ],
      "execution_count": 0,
      "outputs": []
    },
    {
      "metadata": {
        "id": "U2L0LefThdYe",
        "colab_type": "code",
        "colab": {
          "base_uri": "https://localhost:8080/",
          "height": 5505
        },
        "outputId": "4e826004-6a47-4f56-de72-a4f6b8453910"
      },
      "cell_type": "code",
      "source": [
        "regressor.fit(X_train,y_train,epochs=150,batch_size=32)"
      ],
      "execution_count": 23,
      "outputs": [
        {
          "output_type": "stream",
          "text": [
            "Epoch 1/150\n",
            "1198/1198 [==============================] - 8s 7ms/step - loss: 0.0049\n",
            "Epoch 2/150\n",
            "1198/1198 [==============================] - 8s 7ms/step - loss: 0.0043\n",
            "Epoch 3/150\n",
            "1198/1198 [==============================] - 8s 7ms/step - loss: 0.0042\n",
            "Epoch 4/150\n",
            "1198/1198 [==============================] - 8s 7ms/step - loss: 0.0041\n",
            "Epoch 5/150\n",
            "1198/1198 [==============================] - 8s 7ms/step - loss: 0.0035\n",
            "Epoch 6/150\n",
            "1198/1198 [==============================] - 8s 7ms/step - loss: 0.0036\n",
            "Epoch 7/150\n",
            "1198/1198 [==============================] - 8s 7ms/step - loss: 0.0038\n",
            "Epoch 8/150\n",
            "1198/1198 [==============================] - 8s 7ms/step - loss: 0.0036\n",
            "Epoch 9/150\n",
            "1198/1198 [==============================] - 8s 7ms/step - loss: 0.0037\n",
            "Epoch 10/150\n",
            "1198/1198 [==============================] - 8s 7ms/step - loss: 0.0036\n",
            "Epoch 11/150\n",
            "1198/1198 [==============================] - 9s 7ms/step - loss: 0.0041\n",
            "Epoch 12/150\n",
            "1198/1198 [==============================] - 9s 7ms/step - loss: 0.0036\n",
            "Epoch 13/150\n",
            "1198/1198 [==============================] - 8s 7ms/step - loss: 0.0035\n",
            "Epoch 14/150\n",
            "1198/1198 [==============================] - 8s 7ms/step - loss: 0.0033\n",
            "Epoch 15/150\n",
            "1198/1198 [==============================] - 8s 7ms/step - loss: 0.0034\n",
            "Epoch 16/150\n",
            "1198/1198 [==============================] - 8s 7ms/step - loss: 0.0038\n",
            "Epoch 17/150\n",
            "1198/1198 [==============================] - 8s 7ms/step - loss: 0.0028\n",
            "Epoch 18/150\n",
            "1198/1198 [==============================] - 8s 7ms/step - loss: 0.0028\n",
            "Epoch 19/150\n",
            "1198/1198 [==============================] - 8s 7ms/step - loss: 0.0028\n",
            "Epoch 20/150\n",
            "1198/1198 [==============================] - 8s 7ms/step - loss: 0.0032\n",
            "Epoch 21/150\n",
            "1198/1198 [==============================] - 8s 7ms/step - loss: 0.0029\n",
            "Epoch 22/150\n",
            "1198/1198 [==============================] - 8s 7ms/step - loss: 0.0029\n",
            "Epoch 23/150\n",
            "1198/1198 [==============================] - 8s 7ms/step - loss: 0.0029\n",
            "Epoch 24/150\n",
            "1198/1198 [==============================] - 8s 7ms/step - loss: 0.0036\n",
            "Epoch 25/150\n",
            "1198/1198 [==============================] - 8s 7ms/step - loss: 0.0029\n",
            "Epoch 26/150\n",
            "1198/1198 [==============================] - 8s 7ms/step - loss: 0.0024\n",
            "Epoch 27/150\n",
            "1198/1198 [==============================] - 8s 7ms/step - loss: 0.0027\n",
            "Epoch 28/150\n",
            "1198/1198 [==============================] - 8s 7ms/step - loss: 0.0027\n",
            "Epoch 29/150\n",
            "1198/1198 [==============================] - 8s 7ms/step - loss: 0.0032\n",
            "Epoch 30/150\n",
            "1198/1198 [==============================] - 8s 7ms/step - loss: 0.0027\n",
            "Epoch 31/150\n",
            "1198/1198 [==============================] - 8s 7ms/step - loss: 0.0029\n",
            "Epoch 32/150\n",
            "1198/1198 [==============================] - 8s 7ms/step - loss: 0.0025\n",
            "Epoch 33/150\n",
            "1198/1198 [==============================] - 8s 7ms/step - loss: 0.0024\n",
            "Epoch 34/150\n",
            "1198/1198 [==============================] - 8s 7ms/step - loss: 0.0025\n",
            "Epoch 35/150\n",
            "1198/1198 [==============================] - 8s 7ms/step - loss: 0.0023\n",
            "Epoch 36/150\n",
            "1198/1198 [==============================] - 8s 7ms/step - loss: 0.0025\n",
            "Epoch 37/150\n",
            "1198/1198 [==============================] - 8s 7ms/step - loss: 0.0025\n",
            "Epoch 38/150\n",
            "1198/1198 [==============================] - 8s 7ms/step - loss: 0.0028\n",
            "Epoch 39/150\n",
            "1198/1198 [==============================] - 8s 7ms/step - loss: 0.0027\n",
            "Epoch 40/150\n",
            "1198/1198 [==============================] - 8s 7ms/step - loss: 0.0021\n",
            "Epoch 41/150\n",
            "1198/1198 [==============================] - 8s 7ms/step - loss: 0.0027\n",
            "Epoch 42/150\n",
            "1198/1198 [==============================] - 8s 7ms/step - loss: 0.0021\n",
            "Epoch 43/150\n",
            "1198/1198 [==============================] - 8s 7ms/step - loss: 0.0021\n",
            "Epoch 44/150\n",
            "1198/1198 [==============================] - 8s 7ms/step - loss: 0.0020\n",
            "Epoch 45/150\n",
            "1198/1198 [==============================] - 8s 7ms/step - loss: 0.0021\n",
            "Epoch 46/150\n",
            "1198/1198 [==============================] - 8s 7ms/step - loss: 0.0021\n",
            "Epoch 47/150\n",
            "1198/1198 [==============================] - 8s 7ms/step - loss: 0.0020\n",
            "Epoch 48/150\n",
            "1198/1198 [==============================] - 9s 7ms/step - loss: 0.0020\n",
            "Epoch 49/150\n",
            "1198/1198 [==============================] - 9s 7ms/step - loss: 0.0019\n",
            "Epoch 50/150\n",
            "1198/1198 [==============================] - 8s 7ms/step - loss: 0.0020\n",
            "Epoch 51/150\n",
            "1198/1198 [==============================] - 8s 7ms/step - loss: 0.0022\n",
            "Epoch 52/150\n",
            "1198/1198 [==============================] - 8s 7ms/step - loss: 0.0020\n",
            "Epoch 53/150\n",
            "1198/1198 [==============================] - 8s 7ms/step - loss: 0.0019\n",
            "Epoch 54/150\n",
            "1198/1198 [==============================] - 8s 7ms/step - loss: 0.0020\n",
            "Epoch 55/150\n",
            "1198/1198 [==============================] - 8s 7ms/step - loss: 0.0019\n",
            "Epoch 56/150\n",
            "1198/1198 [==============================] - 8s 7ms/step - loss: 0.0019\n",
            "Epoch 57/150\n",
            "1198/1198 [==============================] - 8s 7ms/step - loss: 0.0018\n",
            "Epoch 58/150\n",
            "1198/1198 [==============================] - 8s 7ms/step - loss: 0.0018\n",
            "Epoch 59/150\n",
            "1198/1198 [==============================] - 8s 7ms/step - loss: 0.0019\n",
            "Epoch 60/150\n",
            "1198/1198 [==============================] - 8s 7ms/step - loss: 0.0018\n",
            "Epoch 61/150\n",
            "1198/1198 [==============================] - 8s 7ms/step - loss: 0.0018\n",
            "Epoch 62/150\n",
            "1198/1198 [==============================] - 8s 7ms/step - loss: 0.0018\n",
            "Epoch 63/150\n",
            "1198/1198 [==============================] - 8s 7ms/step - loss: 0.0018\n",
            "Epoch 64/150\n",
            "1198/1198 [==============================] - 8s 7ms/step - loss: 0.0017\n",
            "Epoch 65/150\n",
            "1198/1198 [==============================] - 8s 7ms/step - loss: 0.0016\n",
            "Epoch 66/150\n",
            "1198/1198 [==============================] - 8s 7ms/step - loss: 0.0017\n",
            "Epoch 67/150\n",
            "1198/1198 [==============================] - 8s 7ms/step - loss: 0.0018\n",
            "Epoch 68/150\n",
            "1198/1198 [==============================] - 8s 7ms/step - loss: 0.0018\n",
            "Epoch 69/150\n",
            "1198/1198 [==============================] - 8s 7ms/step - loss: 0.0019\n",
            "Epoch 70/150\n",
            "1198/1198 [==============================] - 8s 7ms/step - loss: 0.0018\n",
            "Epoch 71/150\n",
            "1198/1198 [==============================] - 8s 7ms/step - loss: 0.0016\n",
            "Epoch 72/150\n",
            "1198/1198 [==============================] - 8s 7ms/step - loss: 0.0016\n",
            "Epoch 73/150\n",
            "1198/1198 [==============================] - 8s 7ms/step - loss: 0.0016\n",
            "Epoch 74/150\n",
            "1198/1198 [==============================] - 8s 7ms/step - loss: 0.0017\n",
            "Epoch 75/150\n",
            "1198/1198 [==============================] - 8s 7ms/step - loss: 0.0015\n",
            "Epoch 76/150\n",
            "1198/1198 [==============================] - 8s 7ms/step - loss: 0.0016\n",
            "Epoch 77/150\n",
            "1198/1198 [==============================] - 8s 7ms/step - loss: 0.0015\n",
            "Epoch 78/150\n",
            "1198/1198 [==============================] - 8s 7ms/step - loss: 0.0015\n",
            "Epoch 79/150\n",
            "1198/1198 [==============================] - 8s 7ms/step - loss: 0.0014\n",
            "Epoch 80/150\n",
            "1198/1198 [==============================] - 8s 7ms/step - loss: 0.0018\n",
            "Epoch 81/150\n",
            "1198/1198 [==============================] - 8s 7ms/step - loss: 0.0017\n",
            "Epoch 82/150\n",
            "1198/1198 [==============================] - 8s 7ms/step - loss: 0.0016\n",
            "Epoch 83/150\n",
            "1198/1198 [==============================] - 8s 7ms/step - loss: 0.0014\n",
            "Epoch 84/150\n",
            "1198/1198 [==============================] - 8s 7ms/step - loss: 0.0014\n",
            "Epoch 85/150\n",
            "1198/1198 [==============================] - 8s 7ms/step - loss: 0.0014\n",
            "Epoch 86/150\n",
            "1198/1198 [==============================] - 9s 7ms/step - loss: 0.0015\n",
            "Epoch 87/150\n",
            "1198/1198 [==============================] - 9s 7ms/step - loss: 0.0014\n",
            "Epoch 88/150\n",
            "1198/1198 [==============================] - 8s 7ms/step - loss: 0.0015\n",
            "Epoch 89/150\n",
            "1198/1198 [==============================] - 8s 7ms/step - loss: 0.0014\n",
            "Epoch 90/150\n",
            "1198/1198 [==============================] - 8s 7ms/step - loss: 0.0015\n",
            "Epoch 91/150\n",
            "1198/1198 [==============================] - 8s 7ms/step - loss: 0.0015\n",
            "Epoch 92/150\n",
            "1198/1198 [==============================] - 8s 7ms/step - loss: 0.0013\n",
            "Epoch 93/150\n",
            "1198/1198 [==============================] - 8s 7ms/step - loss: 0.0014\n",
            "Epoch 94/150\n",
            "1198/1198 [==============================] - 8s 7ms/step - loss: 0.0014\n",
            "Epoch 95/150\n",
            "1198/1198 [==============================] - 8s 7ms/step - loss: 0.0017\n",
            "Epoch 96/150\n",
            "1198/1198 [==============================] - 8s 7ms/step - loss: 0.0015\n",
            "Epoch 97/150\n",
            "1198/1198 [==============================] - 8s 7ms/step - loss: 0.0013\n",
            "Epoch 98/150\n",
            "1198/1198 [==============================] - 8s 7ms/step - loss: 0.0014\n",
            "Epoch 99/150\n",
            "1198/1198 [==============================] - 8s 7ms/step - loss: 0.0012\n",
            "Epoch 100/150\n",
            "1198/1198 [==============================] - 8s 7ms/step - loss: 0.0013\n",
            "Epoch 101/150\n",
            "1198/1198 [==============================] - 8s 7ms/step - loss: 0.0014\n",
            "Epoch 102/150\n",
            "1198/1198 [==============================] - 8s 7ms/step - loss: 0.0013\n",
            "Epoch 103/150\n",
            "1198/1198 [==============================] - 8s 7ms/step - loss: 0.0014\n",
            "Epoch 104/150\n",
            "1198/1198 [==============================] - 8s 7ms/step - loss: 0.0013\n",
            "Epoch 105/150\n",
            "1198/1198 [==============================] - 8s 7ms/step - loss: 0.0014\n",
            "Epoch 106/150\n",
            "1198/1198 [==============================] - 8s 7ms/step - loss: 0.0012\n",
            "Epoch 107/150\n",
            "1198/1198 [==============================] - 8s 7ms/step - loss: 0.0012\n",
            "Epoch 108/150\n",
            "1198/1198 [==============================] - 8s 7ms/step - loss: 0.0013\n",
            "Epoch 109/150\n",
            "1198/1198 [==============================] - 8s 7ms/step - loss: 0.0011\n",
            "Epoch 110/150\n",
            "1198/1198 [==============================] - 8s 7ms/step - loss: 0.0011\n",
            "Epoch 111/150\n",
            "1198/1198 [==============================] - 8s 7ms/step - loss: 0.0012\n",
            "Epoch 112/150\n",
            "1198/1198 [==============================] - 8s 7ms/step - loss: 0.0012\n",
            "Epoch 113/150\n",
            "1198/1198 [==============================] - 8s 7ms/step - loss: 0.0010\n",
            "Epoch 114/150\n",
            "1198/1198 [==============================] - 8s 7ms/step - loss: 0.0012\n",
            "Epoch 115/150\n",
            "1198/1198 [==============================] - 8s 7ms/step - loss: 0.0012\n",
            "Epoch 116/150\n",
            "1198/1198 [==============================] - 8s 7ms/step - loss: 0.0011\n",
            "Epoch 117/150\n",
            "1198/1198 [==============================] - 8s 7ms/step - loss: 0.0013\n",
            "Epoch 118/150\n",
            "1198/1198 [==============================] - 8s 7ms/step - loss: 0.0012\n",
            "Epoch 119/150\n",
            "1198/1198 [==============================] - 8s 7ms/step - loss: 0.0010\n",
            "Epoch 120/150\n",
            "1198/1198 [==============================] - 8s 7ms/step - loss: 0.0013\n",
            "Epoch 121/150\n",
            "1198/1198 [==============================] - 8s 7ms/step - loss: 0.0013\n",
            "Epoch 122/150\n",
            "1198/1198 [==============================] - 8s 7ms/step - loss: 9.9771e-04\n",
            "Epoch 123/150\n",
            "1198/1198 [==============================] - 8s 7ms/step - loss: 0.0012\n",
            "Epoch 124/150\n",
            "1198/1198 [==============================] - 9s 7ms/step - loss: 0.0013\n",
            "Epoch 125/150\n",
            "1198/1198 [==============================] - 8s 7ms/step - loss: 0.0011\n",
            "Epoch 126/150\n",
            "1198/1198 [==============================] - 8s 7ms/step - loss: 0.0011\n",
            "Epoch 127/150\n",
            "1198/1198 [==============================] - 8s 7ms/step - loss: 0.0011\n",
            "Epoch 128/150\n",
            "1198/1198 [==============================] - 8s 7ms/step - loss: 0.0011\n",
            "Epoch 129/150\n",
            "1198/1198 [==============================] - 8s 7ms/step - loss: 0.0012\n",
            "Epoch 130/150\n",
            "1198/1198 [==============================] - 8s 7ms/step - loss: 0.0011\n",
            "Epoch 131/150\n",
            "1198/1198 [==============================] - 8s 7ms/step - loss: 0.0010\n",
            "Epoch 132/150\n",
            "1198/1198 [==============================] - 8s 7ms/step - loss: 0.0010\n",
            "Epoch 133/150\n",
            "1198/1198 [==============================] - 8s 7ms/step - loss: 0.0013\n",
            "Epoch 134/150\n",
            "1198/1198 [==============================] - 8s 7ms/step - loss: 0.0011\n",
            "Epoch 135/150\n",
            "1198/1198 [==============================] - 8s 7ms/step - loss: 0.0011\n",
            "Epoch 136/150\n",
            "1198/1198 [==============================] - 8s 7ms/step - loss: 0.0011\n",
            "Epoch 137/150\n",
            "1198/1198 [==============================] - 8s 7ms/step - loss: 0.0011\n",
            "Epoch 138/150\n",
            "1198/1198 [==============================] - 8s 7ms/step - loss: 0.0011\n",
            "Epoch 139/150\n",
            "1198/1198 [==============================] - 8s 7ms/step - loss: 0.0012\n",
            "Epoch 140/150\n",
            "1198/1198 [==============================] - 8s 7ms/step - loss: 0.0011\n",
            "Epoch 141/150\n",
            "1198/1198 [==============================] - 8s 7ms/step - loss: 0.0010\n",
            "Epoch 142/150\n",
            "1198/1198 [==============================] - 8s 7ms/step - loss: 0.0011\n",
            "Epoch 143/150\n",
            "1198/1198 [==============================] - 8s 7ms/step - loss: 9.9964e-04\n",
            "Epoch 144/150\n",
            "1198/1198 [==============================] - 8s 7ms/step - loss: 9.7024e-04\n",
            "Epoch 145/150\n",
            "1198/1198 [==============================] - 8s 7ms/step - loss: 9.5083e-04\n",
            "Epoch 146/150\n",
            "1198/1198 [==============================] - 8s 7ms/step - loss: 0.0010\n",
            "Epoch 147/150\n",
            "1198/1198 [==============================] - 8s 7ms/step - loss: 0.0013\n",
            "Epoch 148/150\n",
            "1198/1198 [==============================] - 8s 7ms/step - loss: 9.8715e-04\n",
            "Epoch 149/150\n",
            "1198/1198 [==============================] - 8s 7ms/step - loss: 9.5775e-04\n",
            "Epoch 150/150\n",
            "1198/1198 [==============================] - 8s 7ms/step - loss: 0.0010\n"
          ],
          "name": "stdout"
        },
        {
          "output_type": "execute_result",
          "data": {
            "text/plain": [
              "<keras.callbacks.History at 0x7f640c760518>"
            ]
          },
          "metadata": {
            "tags": []
          },
          "execution_count": 23
        }
      ]
    },
    {
      "metadata": {
        "id": "MmG4kV7Ih3Ki",
        "colab_type": "code",
        "colab": {}
      },
      "cell_type": "code",
      "source": [
        "dataset_test = pd.read_csv(\"gdrive/My Drive/DeepLearning/Recurrent_Neural_Networks/Google_Stock_Price_Test.csv\")\n",
        "real = dataset_test.iloc[:,1:2].values"
      ],
      "execution_count": 0,
      "outputs": []
    },
    {
      "metadata": {
        "id": "nIiNdO2GjO56",
        "colab_type": "code",
        "colab": {}
      },
      "cell_type": "code",
      "source": [
        "#Getting predicted stock\n",
        "dataset_total = pd.concat((dataset_train['Open'], dataset_test['Open']),axis =0)\n",
        "inputs = dataset_total[len(dataset_total)-len(dataset_test)-60:].values\n",
        "inputs =inputs.reshape(-1,1)\n",
        "\n",
        "#Scaling the data\n",
        "inputs = sc.transform(inputs)\n",
        "\n",
        "#LSTM with 60 time steps\n",
        "X_test =[]\n",
        "for i in range(60,80):\n",
        "  X_test.append(inputs[i-60:i,0])\n",
        "X_test = np.array(X_test)\n",
        "  \n",
        "#Reshaping the data\n",
        "X_test = np.reshape(X_test,(X_test.shape[0],X_test.shape[1],1))\n",
        "\n",
        "#prediction\n",
        "pred_stock = regressor.predict(X_test)\n",
        "\n",
        "#inverse Scaling\n",
        "pred_stock = sc.inverse_transform(pred_stock)"
      ],
      "execution_count": 0,
      "outputs": []
    },
    {
      "metadata": {
        "id": "fBy5xvvVnGzT",
        "colab_type": "code",
        "colab": {
          "base_uri": "https://localhost:8080/",
          "height": 376
        },
        "outputId": "4811d227-679a-4601-d409-cc1f53b3489a"
      },
      "cell_type": "code",
      "source": [
        "#Visualizing the results\n",
        "plt.plot(real,color='red',label= \"Real Prices\")\n",
        "plt.plot(pred_stock,color='blue',label= \"Predicted Prices\")\n",
        "plt.title(\"The Model performance test\")\n",
        "plt.xlabel(\"Time\")\n",
        "plt.ylabel(\"Price\")\n",
        "plt.legend()\n",
        "plt.show()\n",
        "\n"
      ],
      "execution_count": 39,
      "outputs": [
        {
          "output_type": "display_data",
          "data": {
            "image/png": "[encoded data removed]",
            "text/plain": [
              "<matplotlib.figure.Figure at 0x7f640bdc6208>"
            ]
          },
          "metadata": {
            "tags": []
          }
        }
      ]
    },
    {
      "metadata": {
        "id": "_PUXYjFhpp7O",
        "colab_type": "code",
        "colab": {}
      },
      "cell_type": "code",
      "source": [
        ""
      ],
      "execution_count": 0,
      "outputs": []
    }
  ]
}