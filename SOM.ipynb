{
  "nbformat": 4,
  "nbformat_minor": 0,
  "metadata": {
    "colab": {
      "name": "SOM.ipynb",
      "version": "0.3.2",
      "provenance": [],
      "include_colab_link": true
    },
    "kernelspec": {
      "name": "python3",
      "display_name": "Python 3"
    },
    "accelerator": "TPU"
  },
  "cells": [
    {
      "cell_type": "markdown",
      "metadata": {
        "id": "view-in-github",
        "colab_type": "text"
      },
      "source": [
        "<a href=\"https://colab.research.google.com/github/agarwalanant/DeepLearning/blob/master/SOM.ipynb\" target=\"_parent\"><img src=\"https://colab.research.google.com/assets/colab-badge.svg\" alt=\"Open In Colab\"/></a>"
      ]
    },
    {
      "metadata": {
        "id": "Mu-nl8l1FsDt",
        "colab_type": "code",
        "colab": {
          "base_uri": "https://localhost:8080/",
          "height": 128
        },
        "outputId": "60ed4ae4-366f-464c-8a93-64ee3a3b76b4"
      },
      "cell_type": "code",
      "source": [
        "from google.colab import drive\n",
        "drive.mount('/content/gdrive')"
      ],
      "execution_count": 1,
      "outputs": [
        {
          "output_type": "stream",
          "text": [
            "Go to this URL in a browser: https://accounts.google.com/o/oauth2/auth?client_id=947318989803-6bn6qk8qdgf4n4g3pfee6491hc0brc4i.apps.googleusercontent.com&redirect_uri=urn%3Aietf%3Awg%3Aoauth%3A2.0%3Aoob&scope=email%20https%3A%2F%2Fwww.googleapis.com%2Fauth%2Fdocs.test%20https%3A%2F%2Fwww.googleapis.com%2Fauth%2Fdrive%20https%3A%2F%2Fwww.googleapis.com%2Fauth%2Fdrive.photos.readonly%20https%3A%2F%2Fwww.googleapis.com%2Fauth%2Fpeopleapi.readonly&response_type=code\n",
            "\n",
            "Enter your authorization code:\n",
            "··········\n",
            "Mounted at /content/gdrive\n"
          ],
          "name": "stdout"
        }
      ]
    },
    {
      "metadata": {
        "id": "Ra4fJFCsGDBI",
        "colab_type": "code",
        "colab": {
          "base_uri": "https://localhost:8080/",
          "height": 473
        },
        "outputId": "33092c3d-a51a-43ad-8283-0f078cae2eb1"
      },
      "cell_type": "code",
      "source": [
        "!wget http://www.superdatascience.com/wp-content/uploads/2017/03/Self_Organizing_Maps.zip\n",
        "!unzip Self_Organizing_Maps.zip -d gdrive/My\\ \\Drive/DeepLearning"
      ],
      "execution_count": 6,
      "outputs": [
        {
          "output_type": "stream",
          "text": [
            "--2018-10-31 17:13:25--  http://www.superdatascience.com/wp-content/uploads/2017/03/Self_Organizing_Maps.zip\n",
            "Resolving www.superdatascience.com (www.superdatascience.com)... 104.27.172.21, 104.27.173.21, 2606:4700:30::681b:ad15, ...\n",
            "Connecting to www.superdatascience.com (www.superdatascience.com)|104.27.172.21|:80... connected.\n",
            "HTTP request sent, awaiting response... 301 Moved Permanently\n",
            "Location: https://www.superdatascience.com/wp-content/uploads/2017/03/Self_Organizing_Maps.zip [following]\n",
            "--2018-10-31 17:13:25--  https://www.superdatascience.com/wp-content/uploads/2017/03/Self_Organizing_Maps.zip\n",
            "Connecting to www.superdatascience.com (www.superdatascience.com)|104.27.172.21|:443... connected.\n",
            "HTTP request sent, awaiting response... 200 OK\n",
            "Length: 17004 (17K) [application/zip]\n",
            "Saving to: ‘Self_Organizing_Maps.zip.1’\n",
            "\n",
            "\r          Self_Orga   0%[                    ]       0  --.-KB/s               \rSelf_Organizing_Map 100%[===================>]  16.61K  --.-KB/s    in 0.06s   \n",
            "\n",
            "2018-10-31 17:13:26 (278 KB/s) - ‘Self_Organizing_Maps.zip.1’ saved [17004/17004]\n",
            "\n",
            "Archive:  Self_Organizing_Maps.zip\n",
            "   creating: gdrive/My Drive/DeepLearning/Self_Organizing_Maps/\n",
            "  inflating: gdrive/My Drive/DeepLearning/Self_Organizing_Maps/Credit_Card_Applications.csv  \n",
            "   creating: gdrive/My Drive/DeepLearning/__MACOSX/\n",
            "   creating: gdrive/My Drive/DeepLearning/__MACOSX/Self_Organizing_Maps/\n",
            "  inflating: gdrive/My Drive/DeepLearning/__MACOSX/Self_Organizing_Maps/._Credit_Card_Applications.csv  \n",
            "  inflating: gdrive/My Drive/DeepLearning/Self_Organizing_Maps/minisom.py  \n",
            "  inflating: gdrive/My Drive/DeepLearning/Self_Organizing_Maps/som.py  \n",
            "  inflating: gdrive/My Drive/DeepLearning/__MACOSX/Self_Organizing_Maps/._som.py  \n"
          ],
          "name": "stdout"
        }
      ]
    },
    {
      "metadata": {
        "id": "okWNB6VpG-OV",
        "colab_type": "code",
        "colab": {}
      },
      "cell_type": "code",
      "source": [
        "import pandas as pd\n",
        "import numpy as np\n",
        "import matplotlib.pyplot as plt"
      ],
      "execution_count": 0,
      "outputs": []
    },
    {
      "metadata": {
        "id": "9dkwKULiHM30",
        "colab_type": "code",
        "colab": {}
      },
      "cell_type": "code",
      "source": [
        "dataset = pd.read_csv(\"gdrive/My Drive/DeepLearning/Self_Organizing_Maps/Credit_Card_Applications.csv\")"
      ],
      "execution_count": 0,
      "outputs": []
    },
    {
      "metadata": {
        "id": "7OBlz6PRHeZ-",
        "colab_type": "code",
        "colab": {}
      },
      "cell_type": "code",
      "source": [
        "X = dataset.iloc[:, :-1].values\n",
        "y = dataset.iloc[:, -1].values"
      ],
      "execution_count": 0,
      "outputs": []
    },
    {
      "metadata": {
        "id": "eaFZgqyKPYVJ",
        "colab_type": "code",
        "colab": {}
      },
      "cell_type": "code",
      "source": [
        ""
      ],
      "execution_count": 0,
      "outputs": []
    },
    {
      "metadata": {
        "id": "_N_mQNaWJLLU",
        "colab_type": "code",
        "colab": {}
      },
      "cell_type": "code",
      "source": [
        "#Feature Scaling\n",
        "from sklearn.preprocessing import MinMaxScaler\n",
        "sc = MinMaxScaler(feature_range = (0, 1))\n",
        "X = sc.fit_transform(X)"
      ],
      "execution_count": 0,
      "outputs": []
    },
    {
      "metadata": {
        "id": "lUQ3aMi5JrE_",
        "colab_type": "code",
        "colab": {
          "base_uri": "https://localhost:8080/",
          "height": 182
        },
        "outputId": "f440921a-9ba8-4669-b509-f1174d0e02a4"
      },
      "cell_type": "code",
      "source": [
        "!pip install minisom\n",
        "from minisom import MiniSom      "
      ],
      "execution_count": 6,
      "outputs": [
        {
          "output_type": "stream",
          "text": [
            "Collecting minisom\n",
            "  Downloading https://files.pythonhosted.org/packages/d3/de/79460293f5b3b69371832f50419820162b30a12c929d02543df3b4ff3d41/MiniSom-2.1.4.tar.gz\n",
            "Building wheels for collected packages: minisom\n",
            "  Running setup.py bdist_wheel for minisom ... \u001b[?25l-\b \bdone\n",
            "\u001b[?25h  Stored in directory: /root/.cache/pip/wheels/4a/5c/75/d21b1b07292ccd8720a8076304f793031e016c16e9c8eacbf9\n",
            "Successfully built minisom\n",
            "Installing collected packages: minisom\n",
            "Successfully installed minisom-2.1.4\n"
          ],
          "name": "stdout"
        }
      ]
    },
    {
      "metadata": {
        "id": "dlLSpQf9J_07",
        "colab_type": "code",
        "colab": {}
      },
      "cell_type": "code",
      "source": [
        "som = MiniSom(x = 10, y = 10, input_len = 15, sigma = 1.0, learning_rate = 0.5)\n",
        "som.random_weights_init(X)\n",
        "som.train_random(data = X, num_iteration = 100)\n"
      ],
      "execution_count": 0,
      "outputs": []
    },
    {
      "metadata": {
        "id": "sjncE3zHLWr4",
        "colab_type": "code",
        "colab": {}
      },
      "cell_type": "code",
      "source": [
        "from pylab import bone,pcolor,colorbar,plot,show"
      ],
      "execution_count": 0,
      "outputs": []
    },
    {
      "metadata": {
        "id": "L62JE0c3MaDt",
        "colab_type": "code",
        "colab": {
          "base_uri": "https://localhost:8080/",
          "height": 351
        },
        "outputId": "2413325c-d89f-4660-8d5a-a07a6010ee0a"
      },
      "cell_type": "code",
      "source": [
        "bone()\n",
        "pcolor(som.distance_map().T)\n",
        "colorbar()\n",
        "markers = ['o', 's']\n",
        "colors = ['r', 'g']\n",
        "for i, x in enumerate(X):\n",
        "    w = som.winner(x)\n",
        "    plot(w[0] + 0.5,\n",
        "         w[1] + 0.5,\n",
        "         markers[y[i]],\n",
        "         markeredgecolor = colors[y[i]],\n",
        "         markerfacecolor = 'None',\n",
        "         markersize = 10,\n",
        "         markeredgewidth = 2)\n",
        "show()"
      ],
      "execution_count": 21,
      "outputs": [
        {
          "output_type": "display_data",
          "data": {
            "image/png": "[encoded data removed]",
            "text/plain": [
              "<matplotlib.figure.Figure at 0x7f2be81249b0>"
            ]
          },
          "metadata": {
            "tags": []
          }
        }
      ]
    },
    {
      "metadata": {
        "id": "hnF3sjOtTCtG",
        "colab_type": "text"
      },
      "cell_type": "markdown",
      "source": [
        "The coordinate below shows the cooridinate of the while blocks at the time of coding this SOM to acculumate frauds together"
      ]
    },
    {
      "metadata": {
        "id": "TVXuVxTgNS2i",
        "colab_type": "code",
        "colab": {}
      },
      "cell_type": "code",
      "source": [
        "mappings = som.win_map(X)\n",
        "frauds = np.concatenate((mappings[(4,1)], mappings[(8,4)]), axis = 0)\n",
        "frauds = sc.inverse_transform(frauds)"
      ],
      "execution_count": 0,
      "outputs": []
    },
    {
      "metadata": {
        "id": "iVsLseMDQxf9",
        "colab_type": "code",
        "colab": {
          "base_uri": "https://localhost:8080/",
          "height": 598
        },
        "outputId": "9b9c249a-a563-4aa1-a4bf-72348aa3e7db"
      },
      "cell_type": "code",
      "source": [
        "frauds"
      ],
      "execution_count": 26,
      "outputs": [
        {
          "output_type": "execute_result",
          "data": {
            "text/plain": [
              "array([[1.5608595e+07, 0.0000000e+00, 3.0420000e+01, 1.3750000e+00,\n",
              "        2.0000000e+00, 9.0000000e+00, 8.0000000e+00, 4.0000000e-02,\n",
              "        0.0000000e+00, 1.0000000e+00, 3.0000000e+00, 0.0000000e+00,\n",
              "        2.0000000e+00, 0.0000000e+00, 3.4000000e+01],\n",
              "       [1.5761158e+07, 0.0000000e+00, 1.6500000e+01, 1.2500000e+00,\n",
              "        2.0000000e+00, 1.1000000e+01, 4.0000000e+00, 2.5000000e-01,\n",
              "        0.0000000e+00, 1.0000000e+00, 1.0000000e+00, 0.0000000e+00,\n",
              "        2.0000000e+00, 1.0800000e+02, 9.9000000e+01],\n",
              "       [1.5711742e+07, 0.0000000e+00, 2.3000000e+01, 1.8350000e+00,\n",
              "        2.0000000e+00, 5.0000000e+00, 3.0000000e+00, 0.0000000e+00,\n",
              "        0.0000000e+00, 1.0000000e+00, 1.0000000e+00, 0.0000000e+00,\n",
              "        2.0000000e+00, 2.0000000e+02, 5.4000000e+01],\n",
              "       [1.5770995e+07, 0.0000000e+00, 4.0330000e+01, 8.1250000e+00,\n",
              "        1.0000000e+00, 4.0000000e+00, 4.0000000e+00, 1.6500000e-01,\n",
              "        0.0000000e+00, 1.0000000e+00, 2.0000000e+00, 0.0000000e+00,\n",
              "        2.0000000e+00, 1.8400000e+02, 1.9000000e+01],\n",
              "       [1.5666166e+07, 0.0000000e+00, 2.0080000e+01, 1.2500000e-01,\n",
              "        2.0000000e+00, 1.1000000e+01, 4.0000000e+00, 1.0000000e+00,\n",
              "        0.0000000e+00, 1.0000000e+00, 1.0000000e+00, 0.0000000e+00,\n",
              "        2.0000000e+00, 2.4000000e+02, 7.6900000e+02],\n",
              "       [1.5665087e+07, 0.0000000e+00, 1.8250000e+01, 1.0000000e+01,\n",
              "        2.0000000e+00, 9.0000000e+00, 4.0000000e+00, 1.0000000e+00,\n",
              "        0.0000000e+00, 1.0000000e+00, 1.0000000e+00, 0.0000000e+00,\n",
              "        2.0000000e+00, 1.2000000e+02, 2.0000000e+00],\n",
              "       [1.5651460e+07, 0.0000000e+00, 6.9500000e+01, 6.0000000e+00,\n",
              "        2.0000000e+00, 1.0000000e+00, 1.0000000e+00, 0.0000000e+00,\n",
              "        0.0000000e+00, 0.0000000e+00, 0.0000000e+00, 0.0000000e+00,\n",
              "        1.0000000e+00, 0.0000000e+00, 1.0000000e+00],\n",
              "       [1.5667934e+07, 0.0000000e+00, 5.7580000e+01, 2.0000000e+00,\n",
              "        2.0000000e+00, 1.0000000e+00, 1.0000000e+00, 6.5000000e+00,\n",
              "        0.0000000e+00, 1.0000000e+00, 1.0000000e+00, 0.0000000e+00,\n",
              "        2.0000000e+00, 0.0000000e+00, 1.1000000e+01]])"
            ]
          },
          "metadata": {
            "tags": []
          },
          "execution_count": 26
        }
      ]
    },
    {
      "metadata": {
        "id": "JSzbpFTPTYCi",
        "colab_type": "code",
        "colab": {}
      },
      "cell_type": "code",
      "source": [
        ""
      ],
      "execution_count": 0,
      "outputs": []
    }
  ]
}