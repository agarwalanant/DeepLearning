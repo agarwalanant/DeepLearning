{
  "nbformat": 4,
  "nbformat_minor": 0,
  "metadata": {
    "colab": {
      "name": "BoltzmannMachines.ipynb",
      "version": "0.3.2",
      "provenance": [],
      "include_colab_link": true
    },
    "kernelspec": {
      "name": "python3",
      "display_name": "Python 3"
    }
  },
  "cells": [
    {
      "cell_type": "markdown",
      "metadata": {
        "id": "view-in-github",
        "colab_type": "text"
      },
      "source": [
        "<a href=\"https://colab.research.google.com/github/agarwalanant/DeepLearning/blob/master/BoltzmannMachines.ipynb\" target=\"_parent\"><img src=\"https://colab.research.google.com/assets/colab-badge.svg\" alt=\"Open In Colab\"/></a>"
      ]
    },
    {
      "metadata": {
        "id": "gu2HyDbXoz_g",
        "colab_type": "code",
        "colab": {
          "base_uri": "https://localhost:8080/",
          "height": 128
        },
        "outputId": "685f9d17-ef21-4f39-f406-ce481e670ac7"
      },
      "cell_type": "code",
      "source": [
        "from google.colab import drive\n",
        "drive.mount('/content/gdrive')"
      ],
      "execution_count": 2,
      "outputs": [
        {
          "output_type": "stream",
          "text": [
            "Go to this URL in a browser: https://accounts.google.com/o/oauth2/auth?client_id=947318989803-6bn6qk8qdgf4n4g3pfee6491hc0brc4i.apps.googleusercontent.com&redirect_uri=urn%3Aietf%3Awg%3Aoauth%3A2.0%3Aoob&scope=email%20https%3A%2F%2Fwww.googleapis.com%2Fauth%2Fdocs.test%20https%3A%2F%2Fwww.googleapis.com%2Fauth%2Fdrive%20https%3A%2F%2Fwww.googleapis.com%2Fauth%2Fdrive.photos.readonly%20https%3A%2F%2Fwww.googleapis.com%2Fauth%2Fpeopleapi.readonly&response_type=code\n",
            "\n",
            "Enter your authorization code:\n",
            "··········\n",
            "Mounted at /content/gdrive\n"
          ],
          "name": "stdout"
        }
      ]
    },
    {
      "metadata": {
        "id": "7aPiq2iqpPuO",
        "colab_type": "code",
        "colab": {
          "base_uri": "https://localhost:8080/",
          "height": 1727
        },
        "outputId": "e99c57a5-fe4c-470d-8c0c-f8e400831043"
      },
      "cell_type": "code",
      "source": [
        "!wget http://www.superdatascience.com/wp-content/uploads/2017/03/Boltzmann_Machines.zip\n",
        "!unzip Boltzmann_Machines.zip -d gdrive/My\\ \\Drive/DeepLearning"
      ],
      "execution_count": 2,
      "outputs": [
        {
          "output_type": "stream",
          "text": [
            "--2018-11-01 14:24:51--  http://www.superdatascience.com/wp-content/uploads/2017/03/Boltzmann_Machines.zip\n",
            "Resolving www.superdatascience.com (www.superdatascience.com)... 104.27.172.21, 104.27.173.21, 2606:4700:30::681b:ac15, ...\n",
            "Connecting to www.superdatascience.com (www.superdatascience.com)|104.27.172.21|:80... connected.\n",
            "HTTP request sent, awaiting response... 301 Moved Permanently\n",
            "Location: https://www.superdatascience.com/wp-content/uploads/2017/03/Boltzmann_Machines.zip [following]\n",
            "--2018-11-01 14:24:51--  https://www.superdatascience.com/wp-content/uploads/2017/03/Boltzmann_Machines.zip\n",
            "Connecting to www.superdatascience.com (www.superdatascience.com)|104.27.172.21|:443... connected.\n",
            "HTTP request sent, awaiting response... 200 OK\n",
            "Length: 23195800 (22M) [application/zip]\n",
            "Saving to: ‘Boltzmann_Machines.zip’\n",
            "\n",
            "Boltzmann_Machines. 100%[===================>]  22.12M  5.42MB/s    in 4.2s    \n",
            "\n",
            "2018-11-01 14:24:55 (5.31 MB/s) - ‘Boltzmann_Machines.zip’ saved [23195800/23195800]\n",
            "\n",
            "Archive:  Boltzmann_Machines.zip\n",
            "   creating: gdrive/My Drive/DeepLearning/Boltzmann_Machines/\n",
            "  inflating: gdrive/My Drive/DeepLearning/Boltzmann_Machines/.DS_Store  \n",
            "   creating: gdrive/My Drive/DeepLearning/__MACOSX/Boltzmann_Machines/\n",
            "  inflating: gdrive/My Drive/DeepLearning/__MACOSX/Boltzmann_Machines/._.DS_Store  \n",
            "  inflating: gdrive/My Drive/DeepLearning/Boltzmann_Machines/AItRBM-proof.pdf  \n",
            "  inflating: gdrive/My Drive/DeepLearning/__MACOSX/Boltzmann_Machines/._AItRBM-proof.pdf  \n",
            "   creating: gdrive/My Drive/DeepLearning/Boltzmann_Machines/ml-100k/\n",
            "  inflating: gdrive/My Drive/DeepLearning/Boltzmann_Machines/ml-100k/allbut.pl  \n",
            "   creating: gdrive/My Drive/DeepLearning/__MACOSX/Boltzmann_Machines/ml-100k/\n",
            "  inflating: gdrive/My Drive/DeepLearning/__MACOSX/Boltzmann_Machines/ml-100k/._allbut.pl  \n",
            "  inflating: gdrive/My Drive/DeepLearning/Boltzmann_Machines/ml-100k/mku.sh  \n",
            "  inflating: gdrive/My Drive/DeepLearning/__MACOSX/Boltzmann_Machines/ml-100k/._mku.sh  \n",
            "  inflating: gdrive/My Drive/DeepLearning/Boltzmann_Machines/ml-100k/README  \n",
            "  inflating: gdrive/My Drive/DeepLearning/Boltzmann_Machines/ml-100k/u.data  \n",
            "  inflating: gdrive/My Drive/DeepLearning/__MACOSX/Boltzmann_Machines/ml-100k/._u.data  \n",
            "  inflating: gdrive/My Drive/DeepLearning/Boltzmann_Machines/ml-100k/u.genre  \n",
            "  inflating: gdrive/My Drive/DeepLearning/__MACOSX/Boltzmann_Machines/ml-100k/._u.genre  \n",
            "  inflating: gdrive/My Drive/DeepLearning/Boltzmann_Machines/ml-100k/u.info  \n",
            "  inflating: gdrive/My Drive/DeepLearning/__MACOSX/Boltzmann_Machines/ml-100k/._u.info  \n",
            "  inflating: gdrive/My Drive/DeepLearning/Boltzmann_Machines/ml-100k/u.item  \n",
            "  inflating: gdrive/My Drive/DeepLearning/__MACOSX/Boltzmann_Machines/ml-100k/._u.item  \n",
            "  inflating: gdrive/My Drive/DeepLearning/Boltzmann_Machines/ml-100k/u.occupation  \n",
            "  inflating: gdrive/My Drive/DeepLearning/__MACOSX/Boltzmann_Machines/ml-100k/._u.occupation  \n",
            "  inflating: gdrive/My Drive/DeepLearning/Boltzmann_Machines/ml-100k/u.user  \n",
            "  inflating: gdrive/My Drive/DeepLearning/__MACOSX/Boltzmann_Machines/ml-100k/._u.user  \n",
            "  inflating: gdrive/My Drive/DeepLearning/Boltzmann_Machines/ml-100k/u1.base  \n",
            "  inflating: gdrive/My Drive/DeepLearning/__MACOSX/Boltzmann_Machines/ml-100k/._u1.base  \n",
            "  inflating: gdrive/My Drive/DeepLearning/Boltzmann_Machines/ml-100k/u1.test  \n",
            "  inflating: gdrive/My Drive/DeepLearning/__MACOSX/Boltzmann_Machines/ml-100k/._u1.test  \n",
            "  inflating: gdrive/My Drive/DeepLearning/Boltzmann_Machines/ml-100k/u2.base  \n",
            "  inflating: gdrive/My Drive/DeepLearning/__MACOSX/Boltzmann_Machines/ml-100k/._u2.base  \n",
            "  inflating: gdrive/My Drive/DeepLearning/Boltzmann_Machines/ml-100k/u2.test  \n",
            "  inflating: gdrive/My Drive/DeepLearning/__MACOSX/Boltzmann_Machines/ml-100k/._u2.test  \n",
            "  inflating: gdrive/My Drive/DeepLearning/Boltzmann_Machines/ml-100k/u3.base  \n",
            "  inflating: gdrive/My Drive/DeepLearning/__MACOSX/Boltzmann_Machines/ml-100k/._u3.base  \n",
            "  inflating: gdrive/My Drive/DeepLearning/Boltzmann_Machines/ml-100k/u3.test  \n",
            "  inflating: gdrive/My Drive/DeepLearning/__MACOSX/Boltzmann_Machines/ml-100k/._u3.test  \n",
            "  inflating: gdrive/My Drive/DeepLearning/Boltzmann_Machines/ml-100k/u4.base  \n",
            "  inflating: gdrive/My Drive/DeepLearning/__MACOSX/Boltzmann_Machines/ml-100k/._u4.base  \n",
            "  inflating: gdrive/My Drive/DeepLearning/Boltzmann_Machines/ml-100k/u4.test  \n",
            "  inflating: gdrive/My Drive/DeepLearning/__MACOSX/Boltzmann_Machines/ml-100k/._u4.test  \n",
            "  inflating: gdrive/My Drive/DeepLearning/Boltzmann_Machines/ml-100k/u5.base  \n",
            "  inflating: gdrive/My Drive/DeepLearning/__MACOSX/Boltzmann_Machines/ml-100k/._u5.base  \n",
            "  inflating: gdrive/My Drive/DeepLearning/Boltzmann_Machines/ml-100k/u5.test  \n",
            "  inflating: gdrive/My Drive/DeepLearning/__MACOSX/Boltzmann_Machines/ml-100k/._u5.test  \n",
            "  inflating: gdrive/My Drive/DeepLearning/Boltzmann_Machines/ml-100k/ua.base  \n",
            "  inflating: gdrive/My Drive/DeepLearning/__MACOSX/Boltzmann_Machines/ml-100k/._ua.base  \n",
            "  inflating: gdrive/My Drive/DeepLearning/Boltzmann_Machines/ml-100k/ua.test  \n",
            "  inflating: gdrive/My Drive/DeepLearning/__MACOSX/Boltzmann_Machines/ml-100k/._ua.test  \n",
            "  inflating: gdrive/My Drive/DeepLearning/Boltzmann_Machines/ml-100k/ub.base  \n",
            "  inflating: gdrive/My Drive/DeepLearning/__MACOSX/Boltzmann_Machines/ml-100k/._ub.base  \n",
            "  inflating: gdrive/My Drive/DeepLearning/Boltzmann_Machines/ml-100k/ub.test  \n",
            "  inflating: gdrive/My Drive/DeepLearning/__MACOSX/Boltzmann_Machines/ml-100k/._ub.test  \n",
            "  inflating: gdrive/My Drive/DeepLearning/__MACOSX/Boltzmann_Machines/._ml-100k  \n",
            "   creating: gdrive/My Drive/DeepLearning/Boltzmann_Machines/ml-1m/\n",
            "  inflating: gdrive/My Drive/DeepLearning/Boltzmann_Machines/ml-1m/.DS_Store  \n",
            "   creating: gdrive/My Drive/DeepLearning/__MACOSX/Boltzmann_Machines/ml-1m/\n",
            "  inflating: gdrive/My Drive/DeepLearning/__MACOSX/Boltzmann_Machines/ml-1m/._.DS_Store  \n",
            "  inflating: gdrive/My Drive/DeepLearning/Boltzmann_Machines/ml-1m/.Rhistory  \n",
            "  inflating: gdrive/My Drive/DeepLearning/Boltzmann_Machines/ml-1m/movies.dat  \n",
            "  inflating: gdrive/My Drive/DeepLearning/__MACOSX/Boltzmann_Machines/ml-1m/._movies.dat  \n",
            "  inflating: gdrive/My Drive/DeepLearning/Boltzmann_Machines/ml-1m/ratings.csv  \n",
            "  inflating: gdrive/My Drive/DeepLearning/__MACOSX/Boltzmann_Machines/ml-1m/._ratings.csv  \n",
            "  inflating: gdrive/My Drive/DeepLearning/Boltzmann_Machines/ml-1m/ratings.dat  \n",
            "  inflating: gdrive/My Drive/DeepLearning/__MACOSX/Boltzmann_Machines/ml-1m/._ratings.dat  \n",
            "  inflating: gdrive/My Drive/DeepLearning/Boltzmann_Machines/ml-1m/README  \n",
            "  inflating: gdrive/My Drive/DeepLearning/Boltzmann_Machines/ml-1m/test_set.csv  \n",
            "  inflating: gdrive/My Drive/DeepLearning/__MACOSX/Boltzmann_Machines/ml-1m/._test_set.csv  \n",
            "  inflating: gdrive/My Drive/DeepLearning/Boltzmann_Machines/ml-1m/Train_Test_Set_Creation.R  \n",
            "  inflating: gdrive/My Drive/DeepLearning/__MACOSX/Boltzmann_Machines/ml-1m/._Train_Test_Set_Creation.R  \n",
            "  inflating: gdrive/My Drive/DeepLearning/Boltzmann_Machines/ml-1m/training_set.csv  \n",
            "  inflating: gdrive/My Drive/DeepLearning/__MACOSX/Boltzmann_Machines/ml-1m/._training_set.csv  \n",
            "  inflating: gdrive/My Drive/DeepLearning/Boltzmann_Machines/ml-1m/users.dat  \n",
            "  inflating: gdrive/My Drive/DeepLearning/__MACOSX/Boltzmann_Machines/ml-1m/._users.dat  \n",
            "  inflating: gdrive/My Drive/DeepLearning/__MACOSX/Boltzmann_Machines/._ml-1m  \n",
            "  inflating: gdrive/My Drive/DeepLearning/Boltzmann_Machines/rbm.py  \n",
            "  inflating: gdrive/My Drive/DeepLearning/__MACOSX/Boltzmann_Machines/._rbm.py  \n"
          ],
          "name": "stdout"
        }
      ]
    },
    {
      "metadata": {
        "id": "7fHiC8K_qZLd",
        "colab_type": "code",
        "colab": {
          "base_uri": "https://localhost:8080/",
          "height": 346
        },
        "outputId": "a562669e-5aa6-4517-c536-4311af4fa669"
      },
      "cell_type": "code",
      "source": [
        "!pip3 install torch torchvision\n",
        "import numpy as np\n",
        "import pandas as pd\n",
        "import torch\n",
        "import torch.nn as nn\n",
        "import torch.nn.parallel\n",
        "import torch.optim as optim\n",
        "import torch.utils.data\n",
        "from torch.autograd import Variable"
      ],
      "execution_count": 3,
      "outputs": [
        {
          "output_type": "stream",
          "text": [
            "Collecting torch\n",
            "\u001b[?25l  Downloading https://files.pythonhosted.org/packages/49/0e/e382bcf1a6ae8225f50b99cc26effa2d4cc6d66975ccf3fa9590efcbedce/torch-0.4.1-cp36-cp36m-manylinux1_x86_64.whl (519.5MB)\n",
            "\u001b[K    100% |████████████████████████████████| 519.5MB 25kB/s \n",
            "tcmalloc: large alloc 1073750016 bytes == 0x58fda000 @  0x7fb3ff8282a4 0x594e17 0x626104 0x51190a 0x4f5277 0x510c78 0x5119bd 0x4f5277 0x4f3338 0x510fb0 0x5119bd 0x4f5277 0x4f3338 0x510fb0 0x5119bd 0x4f5277 0x4f3338 0x510fb0 0x5119bd 0x4f6070 0x510c78 0x5119bd 0x4f5277 0x4f3338 0x510fb0 0x5119bd 0x4f6070 0x4f3338 0x510fb0 0x5119bd 0x4f6070\n",
            "\u001b[?25hCollecting torchvision\n",
            "\u001b[?25l  Downloading https://files.pythonhosted.org/packages/ca/0d/f00b2885711e08bd71242ebe7b96561e6f6d01fdb4b9dcf4d37e2e13c5e1/torchvision-0.2.1-py2.py3-none-any.whl (54kB)\n",
            "\u001b[K    100% |████████████████████████████████| 61kB 20.9MB/s \n",
            "\u001b[?25hRequirement already satisfied: numpy in /usr/local/lib/python3.6/dist-packages (from torchvision) (1.14.6)\n",
            "Collecting pillow>=4.1.1 (from torchvision)\n",
            "\u001b[?25l  Downloading https://files.pythonhosted.org/packages/62/94/5430ebaa83f91cc7a9f687ff5238e26164a779cca2ef9903232268b0a318/Pillow-5.3.0-cp36-cp36m-manylinux1_x86_64.whl (2.0MB)\n",
            "\u001b[K    100% |████████████████████████████████| 2.0MB 3.4MB/s \n",
            "\u001b[?25hRequirement already satisfied: six in /usr/local/lib/python3.6/dist-packages (from torchvision) (1.11.0)\n",
            "Installing collected packages: torch, pillow, torchvision\n",
            "  Found existing installation: Pillow 4.0.0\n",
            "    Uninstalling Pillow-4.0.0:\n",
            "      Successfully uninstalled Pillow-4.0.0\n",
            "Successfully installed pillow-5.3.0 torch-0.4.1 torchvision-0.2.1\n"
          ],
          "name": "stdout"
        }
      ]
    },
    {
      "metadata": {
        "id": "77CPeZf5sqpD",
        "colab_type": "code",
        "colab": {}
      },
      "cell_type": "code",
      "source": [
        "#importing database\n",
        "ratings = pd.read_csv(\"gdrive/My Drive/DeepLearning/Boltzmann_Machines/ml-1m/ratings.dat\", sep =\"::\",header = None,engine = 'python',encoding = 'latin-1')\n",
        "users = pd.read_csv(\"gdrive/My Drive/DeepLearning/Boltzmann_Machines/ml-1m/users.dat\", sep =\"::\",header = None,engine = 'python',encoding = 'latin-1')\n",
        "movies = pd.read_csv(\"gdrive/My Drive/DeepLearning/Boltzmann_Machines/ml-1m/movies.dat\", sep =\"::\",header = None,engine = 'python',encoding = 'latin-1')"
      ],
      "execution_count": 0,
      "outputs": []
    },
    {
      "metadata": {
        "id": "-rAO5cBBt06C",
        "colab_type": "code",
        "colab": {}
      },
      "cell_type": "code",
      "source": [
        "#preparing the training set and test test\n",
        "training_set = pd.read_csv(\"gdrive/My Drive/DeepLearning/Boltzmann_Machines/ml-100k/u1.base\", delimiter ='\\t')\n",
        "training_set = np.array(training_set, dtype = 'int')\n",
        "test_set = pd.read_csv(\"gdrive/My Drive/DeepLearning/Boltzmann_Machines/ml-100k/u1.test\", delimiter ='\\t')\n",
        "test_set = np.array(test_set, dtype = 'int')"
      ],
      "execution_count": 0,
      "outputs": []
    },
    {
      "metadata": {
        "id": "1ZoRrRARtoEr",
        "colab_type": "code",
        "colab": {}
      },
      "cell_type": "code",
      "source": [
        "#getting the number of users and movies\n",
        "nb_users = int(max(max(training_set[:,0]),max(test_set[:,0])))\n",
        "nb_movies = int(max(max(training_set[:,1]),max(test_set[:,1])))"
      ],
      "execution_count": 0,
      "outputs": []
    },
    {
      "metadata": {
        "id": "-QdUcghttrna",
        "colab_type": "code",
        "colab": {}
      },
      "cell_type": "code",
      "source": [
        "#Converting data into an array with users in lines and movies in columns\n",
        "#We will make list of list not a 2d numpy array as we have done before as we are using pytorch.\n",
        "#1st list for 1st user 2nd list for 2nd user \n",
        "def convert(data):\n",
        "    new_data = []\n",
        "    for id_users in range(1,nb_users+1):\n",
        "      id_movies =  data[:,1][data[:,0] == id_users]\n",
        "      id_ratings =  data[:,2][data[:,0] == id_users]\n",
        "      ratings = np.zeros(nb_movies)\n",
        "      ratings[id_movies-1] = id_ratings\n",
        "      new_data.append(list(ratings))\n",
        "    return new_data\n",
        "\n",
        "    "
      ],
      "execution_count": 0,
      "outputs": []
    },
    {
      "metadata": {
        "id": "g2ayKVMBg1Tz",
        "colab_type": "code",
        "colab": {}
      },
      "cell_type": "code",
      "source": [
        "training_set = convert(training_set)\n",
        "test_set = convert(test_set)"
      ],
      "execution_count": 0,
      "outputs": []
    },
    {
      "metadata": {
        "id": "XKLue50XaPid",
        "colab_type": "code",
        "colab": {}
      },
      "cell_type": "code",
      "source": [
        "#Converting data into pytorch tensors\n",
        "training_set = torch.FloatTensor(training_set)\n",
        "test_set = torch.FloatTensor(test_set)\n"
      ],
      "execution_count": 0,
      "outputs": []
    },
    {
      "metadata": {
        "id": "foSGwq4Tlzbp",
        "colab_type": "text"
      },
      "cell_type": "markdown",
      "source": [
        "**Restricted Boltzman Machine**"
      ]
    },
    {
      "metadata": {
        "id": "nVTLXONBbWBE",
        "colab_type": "code",
        "colab": {}
      },
      "cell_type": "code",
      "source": [
        "#Converting the ratings to binary ratings 1 liked 0 not liked \n",
        "training_set[training_set == 0] = -1\n",
        "training_set[training_set == 1 ] = 0\n",
        "training_set[training_set == 2 ] = 0\n",
        "training_set[training_set >= 3 ] = 1\n",
        "test_set[test_set == 0] = -1\n",
        "test_set[test_set == 1 ] = 0\n",
        "test_set[test_set == 2 ] = 0\n",
        "test_set[test_set >= 3 ] = 1\n"
      ],
      "execution_count": 0,
      "outputs": []
    },
    {
      "metadata": {
        "id": "U9xlBcIAniTc",
        "colab_type": "code",
        "colab": {}
      },
      "cell_type": "code",
      "source": [
        "#Architecture of Boltzman Machine \n",
        "class RBM():\n",
        "  def __init__(self, nv, nh):\n",
        "    self.W"
      ],
      "execution_count": 0,
      "outputs": []
    }
  ]
}